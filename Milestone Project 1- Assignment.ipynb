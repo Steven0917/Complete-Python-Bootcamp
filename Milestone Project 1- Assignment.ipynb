{
 "cells": [
  {
   "cell_type": "markdown",
   "metadata": {},
   "source": [
    "# Milestone Project 1\n",
    "## Congratulations on making it to your first milestone!\n",
    "You've already learned a ton and are ready to work on a real project.\n",
    "\n",
    "Your assignment: Create a Tic Tac Toe game. You are free to use any IDE you like.\n",
    "\n",
    "Here are the requirements:\n",
    "\n",
    "* 2 players should be able to play the game (both sitting at the same computer)\n",
    "* The board should be printed out every time a player makes a move\n",
    "* You should be able to accept input of the player position and then place a symbol on the board\n",
    "\n",
    "Feel free to use Google to help you figure anything out (but don't just Google \"Tic Tac Toe in Python\" otherwise you won't learn anything!) Keep in mind that this project can take anywhere between several hours to several days.\n",
    "\n",
    "There are 4 Jupyter Notebooks related to this assignment:\n",
    "\n",
    "* This Assignment Notebook\n",
    "* A \"Walk-through Steps Workbook\" Notebook\n",
    "* A \"Walk-through Solution\" Notebook\n",
    "* An \"Advanced Solution\" Notebook\n",
    "\n",
    "I encourage you to just try to start the project on your own without referencing any of the notebooks. If you get stuck, check out the next lecture which is a text lecture with helpful hints and steps. If you're still stuck after that, then check out the walk-through Steps Workbook, which breaks up the project in steps for you to solve. Still stuck? Then check out the walk-through solution video for more help on approaching the project!"
   ]
  },
  {
   "cell_type": "markdown",
   "metadata": {},
   "source": [
    "There are parts of this that will be a struggle...and that is good! I have complete faith that if you have made it this far through the course you have all the tools and knowledge to tackle this project. Remember, its totally open book, so take your time, do a little research, and remember:\n",
    "\n",
    "## HAVE FUN!"
   ]
  },
  {
   "cell_type": "code",
   "execution_count": 41,
   "metadata": {},
   "outputs": [
    {
     "name": "stdout",
     "output_type": "stream",
     "text": [
      ". . .\n",
      ". . .\n",
      ". . .\n",
      "0 -1 0\n",
      "0 0 0\n",
      "0 0 1\n",
      ". O .\n",
      ". . .\n",
      ". . X\n"
     ]
    }
   ],
   "source": [
    "game = [[0]*3, [0]*3, [0]*3]\n",
    "board = [[\".\"]*3, [\".\"]*3, [\".\"]*3]\n",
    "\n",
    "def present(n):\n",
    "    if n == -1:\n",
    "        return \"O\"\n",
    "    elif n == 1:\n",
    "        return \"X\"\n",
    "    return\n",
    "\n",
    "def draw(matrix):\n",
    "    for [a,b,c] in matrix:\n",
    "        print a, b, c\n",
    "            \n",
    "def move(player, x, y):\n",
    "    if x < 0 or x > 3 or y < 0 or y > 3 or (player != -1 and player != 1):\n",
    "        print \"Error!\"\n",
    "        return\n",
    "    game[x][y] = player\n",
    "    board[x][y] = present(player)\n",
    "    \n",
    "\n",
    "draw(board)\n",
    "\n",
    "move(-1, 0, 1)\n",
    "move(1, 2, 2)\n",
    "\n",
    "draw(game)\n",
    "draw(board)"
   ]
  },
  {
   "cell_type": "code",
   "execution_count": 24,
   "metadata": {},
   "outputs": [
    {
     "data": {
      "text/plain": [
       "[[0, -1, 1], [0, -1, 1], [0, -1, 1]]"
      ]
     },
     "execution_count": 24,
     "metadata": {},
     "output_type": "execute_result"
    }
   ],
   "source": [
    "game"
   ]
  },
  {
   "cell_type": "code",
   "execution_count": 25,
   "metadata": {},
   "outputs": [
    {
     "data": {
      "text/plain": [
       "[[' ', 'O', 'X'], [' ', 'O', 'X'], [' ', 'O', 'X']]"
      ]
     },
     "execution_count": 25,
     "metadata": {},
     "output_type": "execute_result"
    }
   ],
   "source": [
    "board"
   ]
  },
  {
   "cell_type": "code",
   "execution_count": 28,
   "metadata": {
    "collapsed": true
   },
   "outputs": [],
   "source": [
    "game[0][1] = 1\n",
    "\n"
   ]
  },
  {
   "cell_type": "code",
   "execution_count": 29,
   "metadata": {},
   "outputs": [
    {
     "data": {
      "text/plain": [
       "[[0, 1, 1], [0, 1, 1], [0, 1, 1]]"
      ]
     },
     "execution_count": 29,
     "metadata": {},
     "output_type": "execute_result"
    }
   ],
   "source": [
    "game"
   ]
  },
  {
   "cell_type": "code",
   "execution_count": 37,
   "metadata": {
    "collapsed": true
   },
   "outputs": [],
   "source": [
    "class Dog(object):\n",
    "    def __init__(self, breed):\n",
    "        self.breed = breed\n",
    "sam = Dog('Huskie')"
   ]
  },
  {
   "cell_type": "code",
   "execution_count": 38,
   "metadata": {},
   "outputs": [
    {
     "data": {
      "text/plain": [
       "<__main__.Dog at 0x10ffcb790>"
      ]
     },
     "execution_count": 38,
     "metadata": {},
     "output_type": "execute_result"
    }
   ],
   "source": [
    "sam"
   ]
  },
  {
   "cell_type": "code",
   "execution_count": 39,
   "metadata": {},
   "outputs": [
    {
     "data": {
      "text/plain": [
       "'Huskie'"
      ]
     },
     "execution_count": 39,
     "metadata": {},
     "output_type": "execute_result"
    }
   ],
   "source": [
    "sam.breed\n"
   ]
  },
  {
   "cell_type": "code",
   "execution_count": 60,
   "metadata": {},
   "outputs": [
    {
     "ename": "SyntaxError",
     "evalue": "invalid syntax (<ipython-input-60-5214830a9ad9>, line 7)",
     "output_type": "error",
     "traceback": [
      "\u001b[0;36m  File \u001b[0;32m\"<ipython-input-60-5214830a9ad9>\"\u001b[0;36m, line \u001b[0;32m7\u001b[0m\n\u001b[0;31m    reture True\u001b[0m\n\u001b[0m              ^\u001b[0m\n\u001b[0;31mSyntaxError\u001b[0m\u001b[0;31m:\u001b[0m invalid syntax\n"
     ]
    }
   ],
   "source": [
    "class Rules(object):\n",
    "    \n",
    "    def check_move(self, move):\n",
    "        pass\n",
    "    \n",
    "    def check_game(self, game):\n",
    "        reture True\n",
    "\n",
    "class Player(object):\n",
    "    \n",
    "    def __init__(self, name, player):\n",
    "        self.player = player\n",
    "        self.name   = name\n",
    "        \n",
    "    def move(self, (x, y)):\n",
    "        return Move(self.player, (x, y))\n",
    "\n",
    "class Move(object):\n",
    "    def __init__(self, player, (x, y)):\n",
    "        self.player = player\n",
    "        self.pos    = (x, y)\n",
    "\n",
    "class Board(object):\n",
    "    \n",
    "    def __init__(self):\n",
    "        self.chesses = [[0]*3, [0]*3, [0]*3]\n",
    "        self.ui      = [[\".\"]*3, [\".\"]*3, [\".\"]*3]\n",
    "    \n",
    "    def update(self, move):\n",
    "        self.chesses[move.pos(0)][move.pos(1)] = move.player\n",
    "        if move.player == 1:\n",
    "            self.ui[move.pos(0)][move.pos(1)] = \"X\"\n",
    "        elif move.player == -1:\n",
    "            self.ui[move.pos(0)][move.pos(1)] = \"O\"\n",
    "        else:\n",
    "            pass\n",
    "\n",
    "    def draw(self):\n",
    "        print\n",
    "        for [a,b,c] in self.ui:\n",
    "            print a, b, c\n",
    "        print\n",
    "        \n",
    "class TicTacToe(object):\n",
    "    \n",
    "    def __init__(self):\n",
    "        pass\n",
    "    \n",
    "    def start(self):\n",
    "        print \"Tic Tac Toe Game Start!\"\n",
    "        player1 = Player(\"Player 1\", 1)\n",
    "        player2 = Player(\"Player 2\", -1)\n",
    "        players = [player1, player2]\n",
    "        board = Board()\n",
    "        rules = Rules()\n",
    "        \n",
    "        print\n",
    "        print player1.name, \" VS \", player2.name\n",
    "\n",
    "        board.draw()\n",
    "        \n",
    "        while Ture:\n",
    "            result = rules.check_game()\n",
    "            if True == result:\n",
    "                print player1.name, \"Wins!\"\n",
    "                break\n",
    "                \n",
    "            elif False == result:\n",
    "                print player2.name, \"Wins!\"\n",
    "                break\n",
    "            \n",
    "            \n",
    "    \n",
    "    def end(self):\n",
    "        pass\n",
    "\n",
    "\n",
    "game = TicTacToe()\n",
    "game.start()\n"
   ]
  },
  {
   "cell_type": "code",
   "execution_count": null,
   "metadata": {
    "collapsed": true
   },
   "outputs": [],
   "source": []
  },
  {
   "cell_type": "code",
   "execution_count": null,
   "metadata": {
    "collapsed": true
   },
   "outputs": [],
   "source": []
  }
 ],
 "metadata": {
  "kernelspec": {
   "display_name": "Python 2",
   "language": "python",
   "name": "python2"
  },
  "language_info": {
   "codemirror_mode": {
    "name": "ipython",
    "version": 2
   },
   "file_extension": ".py",
   "mimetype": "text/x-python",
   "name": "python",
   "nbconvert_exporter": "python",
   "pygments_lexer": "ipython2",
   "version": "2.7.13"
  }
 },
 "nbformat": 4,
 "nbformat_minor": 1
}
